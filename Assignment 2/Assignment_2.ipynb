{
 "cells": [
  {
   "cell_type": "code",
   "execution_count": 1,
   "id": "810ba510-b91c-4066-afe6-20bd4fc2ac6d",
   "metadata": {
    "tags": []
   },
   "outputs": [
    {
     "name": "stdout",
     "output_type": "stream",
     "text": [
      "WARNING:tensorflow:From C:\\Users\\nguye\\anaconda3\\Lib\\site-packages\\keras\\src\\losses.py:2976: The name tf.losses.sparse_softmax_cross_entropy is deprecated. Please use tf.compat.v1.losses.sparse_softmax_cross_entropy instead.\n",
      "\n"
     ]
    }
   ],
   "source": [
    "import pandas as pd\n",
    "import os\n",
    "import cv2\n",
    "import tensorflow as tf\n",
    "import numpy as np\n",
    "from tensorflow.keras.layers import Input, Conv2D, MaxPooling2D, Flatten, Dense, Dropout\n",
    "from tensorflow.keras.models import Sequential\n",
    "from tensorflow.keras.models import Model\n",
    "from sklearn.model_selection import train_test_split\n",
    "from keras.callbacks import EarlyStopping, ModelCheckpoint\n",
    "from tensorflow.keras.optimizers import Adam\n"
   ]
  },
  {
   "cell_type": "code",
   "execution_count": 2,
   "id": "93c05229-b53c-403c-847d-f3a62e8b1d2c",
   "metadata": {},
   "outputs": [],
   "source": [
    "df=pd.read_csv('training_set_pixel_size_and_HC.csv')\n",
    "\n",
    "images = []\n",
    "hcs = []\n",
    "\n",
    "for _, row in df.iterrows():\n",
    "    image_filename = row['filename']\n",
    "    image_path = os.path.join('training_set', image_filename)\n",
    "\n",
    "    img = cv2.imread(image_path)\n",
    "    img_resized = cv2.resize(img, (800, 540))\n",
    "    images.append(img_resized)\n",
    "    hcs.append(row['head circumference (mm)'])\n",
    " \n",
    "images = np.array(images, dtype='float32')\n",
    "images = np.expand_dims(images, -1)\n",
    "hcs = np.array(hcs, dtype='float32')\n",
    "\n",
    "images /= 255.0\n",
    "\n",
    "train_images, val_images, train_hcs, val_hcs = train_test_split(images, hcs, test_size=0.2, random_state=69)"
   ]
  },
  {
   "cell_type": "code",
   "execution_count": 3,
   "id": "b65332fc-fb64-4ae2-9894-e3b2f38e6eca",
   "metadata": {},
   "outputs": [],
   "source": [
    "def regression_network(input_shape):\n",
    "    model = Sequential([\n",
    "        Conv2D(16, (3, 3), activation='relu', input_shape=input_shape),\n",
    "        MaxPooling2D((2, 2)),\n",
    "        Conv2D(32, (3, 3), activation='relu'),\n",
    "        MaxPooling2D((2, 2)),\n",
    "        Conv2D(64, (3, 3), activation='relu'),\n",
    "        Flatten(),\n",
    "        Dense(64, activation='relu'),\n",
    "        Dropout(0.4),\n",
    "        Dense(1)\n",
    "    ])\n",
    "    model.compile(optimizer=Adam(learning_rate=0.001), loss='mean_squared_error', metrics=['mae'])\n",
    "    return model"
   ]
  },
  {
   "cell_type": "code",
   "execution_count": 4,
   "id": "46491175-ea47-4198-ae16-d7bcbf2e8c6f",
   "metadata": {
    "tags": []
   },
   "outputs": [
    {
     "name": "stdout",
     "output_type": "stream",
     "text": [
      "WARNING:tensorflow:From C:\\Users\\nguye\\anaconda3\\Lib\\site-packages\\keras\\src\\backend.py:873: The name tf.get_default_graph is deprecated. Please use tf.compat.v1.get_default_graph instead.\n",
      "\n",
      "WARNING:tensorflow:From C:\\Users\\nguye\\anaconda3\\Lib\\site-packages\\keras\\src\\layers\\pooling\\max_pooling2d.py:161: The name tf.nn.max_pool is deprecated. Please use tf.nn.max_pool2d instead.\n",
      "\n"
     ]
    }
   ],
   "source": [
    "input_shape = (540, 800, 3)\n",
    "regression_model = regression_network(input_shape)"
   ]
  },
  {
   "cell_type": "code",
   "execution_count": null,
   "id": "34c60c0a-dd50-41a1-ad58-329622a58ef7",
   "metadata": {
    "tags": []
   },
   "outputs": [
    {
     "name": "stdout",
     "output_type": "stream",
     "text": [
      "Epoch 1/15\n",
      "WARNING:tensorflow:From C:\\Users\\nguye\\anaconda3\\Lib\\site-packages\\keras\\src\\utils\\tf_utils.py:492: The name tf.ragged.RaggedTensorValue is deprecated. Please use tf.compat.v1.ragged.RaggedTensorValue instead.\n",
      "\n",
      "WARNING:tensorflow:From C:\\Users\\nguye\\anaconda3\\Lib\\site-packages\\keras\\src\\engine\\base_layer_utils.py:384: The name tf.executing_eagerly_outside_functions is deprecated. Please use tf.compat.v1.executing_eagerly_outside_functions instead.\n",
      "\n",
      "25/25 [==============================] - ETA: 0s - loss: 10203.5986 - mae: 78.6870"
     ]
    },
    {
     "name": "stderr",
     "output_type": "stream",
     "text": [
      "C:\\Users\\nguye\\anaconda3\\Lib\\site-packages\\keras\\src\\engine\\training.py:3103: UserWarning: You are saving your model as an HDF5 file via `model.save()`. This file format is considered legacy. We recommend using instead the native Keras format, e.g. `model.save('my_model.keras')`.\n",
      "  saving_api.save_model(\n"
     ]
    },
    {
     "name": "stdout",
     "output_type": "stream",
     "text": [
      "25/25 [==============================] - 23s 877ms/step - loss: 10203.5986 - mae: 78.6870 - val_loss: 2976.5632 - val_mae: 41.8341\n",
      "Epoch 2/15\n",
      "25/25 [==============================] - 21s 848ms/step - loss: 3537.7053 - mae: 46.6445 - val_loss: 2075.1462 - val_mae: 35.1594\n",
      "Epoch 3/15\n",
      "25/25 [==============================] - 20s 808ms/step - loss: 2816.6299 - mae: 40.6536 - val_loss: 2084.4941 - val_mae: 34.6205\n",
      "Epoch 4/15\n",
      "25/25 [==============================] - 21s 837ms/step - loss: 2711.0898 - mae: 41.3183 - val_loss: 1521.0361 - val_mae: 30.5481\n",
      "Epoch 5/15\n",
      "25/25 [==============================] - 20s 807ms/step - loss: 2125.5918 - mae: 35.9489 - val_loss: 1643.6953 - val_mae: 30.8919\n",
      "Epoch 6/15\n",
      "25/25 [==============================] - 21s 843ms/step - loss: 1857.9017 - mae: 33.5838 - val_loss: 1282.7454 - val_mae: 27.8657\n",
      "Epoch 7/15\n",
      "25/25 [==============================] - 21s 846ms/step - loss: 1785.5570 - mae: 32.5211 - val_loss: 1263.5099 - val_mae: 27.3823\n",
      "Epoch 8/15\n",
      "25/25 [==============================] - 20s 804ms/step - loss: 1549.9491 - mae: 30.7309 - val_loss: 1516.5931 - val_mae: 29.8796\n",
      "Epoch 9/15\n",
      "25/25 [==============================] - 21s 853ms/step - loss: 1398.4138 - mae: 29.1405 - val_loss: 1194.2263 - val_mae: 26.4070\n",
      "Epoch 10/15\n",
      "25/25 [==============================] - 21s 826ms/step - loss: 1431.3951 - mae: 28.5638 - val_loss: 1332.9446 - val_mae: 28.0502\n",
      "Epoch 11/15\n",
      "25/25 [==============================] - 20s 816ms/step - loss: 1184.5386 - mae: 26.9819 - val_loss: 1574.5780 - val_mae: 30.5117\n",
      "Epoch 12/15\n",
      "24/25 [===========================>..] - ETA: 0s - loss: 1256.2478 - mae: 27.5128"
     ]
    }
   ],
   "source": [
    "checkpoint_callback = ModelCheckpoint(filepath='best_model.h5', \n",
    "                                      monitor='val_loss', \n",
    "                                      save_best_only=True)\n",
    "\n",
    "history = regression_model.fit(train_images, train_hcs,\n",
    "                    validation_data=(val_images, val_hcs),\n",
    "                    epochs=15, batch_size=32, callbacks=[checkpoint_callback])"
   ]
  },
  {
   "cell_type": "code",
   "execution_count": null,
   "id": "806fc186-fb8a-4753-90a6-8d2973db6232",
   "metadata": {},
   "outputs": [],
   "source": []
  }
 ],
 "metadata": {
  "kernelspec": {
   "display_name": "Python 3 (ipykernel)",
   "language": "python",
   "name": "python3"
  },
  "language_info": {
   "codemirror_mode": {
    "name": "ipython",
    "version": 3
   },
   "file_extension": ".py",
   "mimetype": "text/x-python",
   "name": "python",
   "nbconvert_exporter": "python",
   "pygments_lexer": "ipython3",
   "version": "3.11.5"
  }
 },
 "nbformat": 4,
 "nbformat_minor": 5
}
